{
 "cells": [
  {
   "cell_type": "markdown",
   "metadata": {
    "collapsed": true,
    "pycharm": {
     "name": "#%% md\n"
    }
   },
   "source": [
    "Import modules"
   ]
  },
  {
   "cell_type": "code",
   "execution_count": 1,
   "outputs": [],
   "source": [
    "import numpy\n",
    "import scipy\n",
    "import pandas\n",
    "import matplotlib.pyplot as plt\n",
    "import sklearn"
   ],
   "metadata": {
    "collapsed": false,
    "pycharm": {
     "name": "#%%\n"
    }
   }
  },
  {
   "cell_type": "markdown",
   "source": [
    "Dataset we have for this week contains information related to used car listings in Canada:"
   ],
   "metadata": {
    "collapsed": false,
    "pycharm": {
     "name": "#%% md\n"
    }
   }
  },
  {
   "cell_type": "code",
   "execution_count": 2,
   "outputs": [
    {
     "name": "stderr",
     "output_type": "stream",
     "text": [
      "c:\\users\\turha\\pycharmprojects\\msci433w22\\venv\\lib\\site-packages\\IPython\\core\\interactiveshell.py:3251: DtypeWarning: Columns (13,15) have mixed types.Specify dtype option on import or set low_memory=False.\n",
      "  exec(code_obj, self.user_global_ns, self.user_ns)\n"
     ]
    },
    {
     "data": {
      "text/plain": "              id                vin     price    miles   stock_no    year  \\\n0  b39ea795-eca9  19UNC1B01HY800062  179999.0   9966.0    V-P4139  2017.0   \n1  026cb5b1-6e3e  19UNC1B02HY800023  179995.0   5988.0  PPAP70374  2017.0   \n2  5cd5d5b2-5cc2  19UNC1B02HY800071  168528.0  24242.0     B21085  2017.0   \n3  b32473ed-5922  19UNC1B02LY800001  220000.0   6637.0     AP5333  2020.0   \n4  ac40c9fc-0676  19UNC1B02LY800001  220000.0   6637.0     AP5333  2020.0   \n\n    make model  trim body_type  ... drivetrain transmission  \\\n0  Acura   NSX  Base     Coupe  ...        4WD    Automatic   \n1  Acura   NSX  Base     Coupe  ...        4WD    Automatic   \n2  Acura   NSX  Base     Coupe  ...        4WD    Automatic   \n3  Acura   NSX  Base     Coupe  ...        4WD    Automatic   \n4  Acura   NSX  Base     Coupe  ...        4WD    Automatic   \n\n                     fuel_type engine_size  engine_block  \\\n0  Electric / Premium Unleaded         3.5             V   \n1  Electric / Premium Unleaded         3.5             V   \n2  Electric / Premium Unleaded         3.5             V   \n3  Electric / Premium Unleaded         3.5             V   \n4  Electric / Premium Unleaded         3.5             V   \n\n             seller_name                          street                 city  \\\n0       edmundston honda                475 Rue Victoria           Edmundston   \n1  garage daniel lessard  2795 Route-du-prsident-kennedy  Notre-dame-des-pins   \n2         lougheed acura           1388 Lougheed Highway            Coquitlam   \n3        drive autogroup          1305 Parkway Suite 600            Pickering   \n4        acura pickering               575 Kingston Road            Pickering   \n\n  state      zip  \n0    NB  E3V 2K7  \n1    QC  G0M 1K0  \n2    BC  V3K 6S4  \n3    ON  L1V 3P2  \n4    ON  L1V 3N7  \n\n[5 rows x 21 columns]",
      "text/html": "<div>\n<style scoped>\n    .dataframe tbody tr th:only-of-type {\n        vertical-align: middle;\n    }\n\n    .dataframe tbody tr th {\n        vertical-align: top;\n    }\n\n    .dataframe thead th {\n        text-align: right;\n    }\n</style>\n<table border=\"1\" class=\"dataframe\">\n  <thead>\n    <tr style=\"text-align: right;\">\n      <th></th>\n      <th>id</th>\n      <th>vin</th>\n      <th>price</th>\n      <th>miles</th>\n      <th>stock_no</th>\n      <th>year</th>\n      <th>make</th>\n      <th>model</th>\n      <th>trim</th>\n      <th>body_type</th>\n      <th>...</th>\n      <th>drivetrain</th>\n      <th>transmission</th>\n      <th>fuel_type</th>\n      <th>engine_size</th>\n      <th>engine_block</th>\n      <th>seller_name</th>\n      <th>street</th>\n      <th>city</th>\n      <th>state</th>\n      <th>zip</th>\n    </tr>\n  </thead>\n  <tbody>\n    <tr>\n      <th>0</th>\n      <td>b39ea795-eca9</td>\n      <td>19UNC1B01HY800062</td>\n      <td>179999.0</td>\n      <td>9966.0</td>\n      <td>V-P4139</td>\n      <td>2017.0</td>\n      <td>Acura</td>\n      <td>NSX</td>\n      <td>Base</td>\n      <td>Coupe</td>\n      <td>...</td>\n      <td>4WD</td>\n      <td>Automatic</td>\n      <td>Electric / Premium Unleaded</td>\n      <td>3.5</td>\n      <td>V</td>\n      <td>edmundston honda</td>\n      <td>475 Rue Victoria</td>\n      <td>Edmundston</td>\n      <td>NB</td>\n      <td>E3V 2K7</td>\n    </tr>\n    <tr>\n      <th>1</th>\n      <td>026cb5b1-6e3e</td>\n      <td>19UNC1B02HY800023</td>\n      <td>179995.0</td>\n      <td>5988.0</td>\n      <td>PPAP70374</td>\n      <td>2017.0</td>\n      <td>Acura</td>\n      <td>NSX</td>\n      <td>Base</td>\n      <td>Coupe</td>\n      <td>...</td>\n      <td>4WD</td>\n      <td>Automatic</td>\n      <td>Electric / Premium Unleaded</td>\n      <td>3.5</td>\n      <td>V</td>\n      <td>garage daniel lessard</td>\n      <td>2795 Route-du-prsident-kennedy</td>\n      <td>Notre-dame-des-pins</td>\n      <td>QC</td>\n      <td>G0M 1K0</td>\n    </tr>\n    <tr>\n      <th>2</th>\n      <td>5cd5d5b2-5cc2</td>\n      <td>19UNC1B02HY800071</td>\n      <td>168528.0</td>\n      <td>24242.0</td>\n      <td>B21085</td>\n      <td>2017.0</td>\n      <td>Acura</td>\n      <td>NSX</td>\n      <td>Base</td>\n      <td>Coupe</td>\n      <td>...</td>\n      <td>4WD</td>\n      <td>Automatic</td>\n      <td>Electric / Premium Unleaded</td>\n      <td>3.5</td>\n      <td>V</td>\n      <td>lougheed acura</td>\n      <td>1388 Lougheed Highway</td>\n      <td>Coquitlam</td>\n      <td>BC</td>\n      <td>V3K 6S4</td>\n    </tr>\n    <tr>\n      <th>3</th>\n      <td>b32473ed-5922</td>\n      <td>19UNC1B02LY800001</td>\n      <td>220000.0</td>\n      <td>6637.0</td>\n      <td>AP5333</td>\n      <td>2020.0</td>\n      <td>Acura</td>\n      <td>NSX</td>\n      <td>Base</td>\n      <td>Coupe</td>\n      <td>...</td>\n      <td>4WD</td>\n      <td>Automatic</td>\n      <td>Electric / Premium Unleaded</td>\n      <td>3.5</td>\n      <td>V</td>\n      <td>drive autogroup</td>\n      <td>1305 Parkway Suite 600</td>\n      <td>Pickering</td>\n      <td>ON</td>\n      <td>L1V 3P2</td>\n    </tr>\n    <tr>\n      <th>4</th>\n      <td>ac40c9fc-0676</td>\n      <td>19UNC1B02LY800001</td>\n      <td>220000.0</td>\n      <td>6637.0</td>\n      <td>AP5333</td>\n      <td>2020.0</td>\n      <td>Acura</td>\n      <td>NSX</td>\n      <td>Base</td>\n      <td>Coupe</td>\n      <td>...</td>\n      <td>4WD</td>\n      <td>Automatic</td>\n      <td>Electric / Premium Unleaded</td>\n      <td>3.5</td>\n      <td>V</td>\n      <td>acura pickering</td>\n      <td>575 Kingston Road</td>\n      <td>Pickering</td>\n      <td>ON</td>\n      <td>L1V 3N7</td>\n    </tr>\n  </tbody>\n</table>\n<p>5 rows × 21 columns</p>\n</div>"
     },
     "execution_count": 2,
     "metadata": {},
     "output_type": "execute_result"
    }
   ],
   "source": [
    "df = pandas.read_csv('ca-dealers-used.csv')\n",
    "df.head()"
   ],
   "metadata": {
    "collapsed": false,
    "pycharm": {
     "name": "#%%\n"
    }
   }
  },
  {
   "cell_type": "markdown",
   "source": [
    "Let's filter-out the unnecessary columns such as id, vin, etc."
   ],
   "metadata": {
    "collapsed": false,
    "pycharm": {
     "name": "#%% md\n"
    }
   }
  },
  {
   "cell_type": "code",
   "execution_count": 3,
   "outputs": [
    {
     "name": "stdout",
     "output_type": "stream",
     "text": [
      "<class 'pandas.core.frame.DataFrame'>\n",
      "RangeIndex: 393603 entries, 0 to 393602\n",
      "Data columns (total 13 columns):\n",
      " #   Column        Non-Null Count   Dtype  \n",
      "---  ------        --------------   -----  \n",
      " 0   price         358486 non-null  float64\n",
      " 1   miles         366590 non-null  float64\n",
      " 2   year          393586 non-null  float64\n",
      " 3   make          393603 non-null  object \n",
      " 4   model         388809 non-null  object \n",
      " 5   trim          354824 non-null  object \n",
      " 6   body_type     359578 non-null  object \n",
      " 7   vehicle_type  355365 non-null  object \n",
      " 8   drivetrain    354608 non-null  object \n",
      " 9   transmission  357922 non-null  object \n",
      " 10  fuel_type     322790 non-null  object \n",
      " 11  engine_size   320950 non-null  float64\n",
      " 12  engine_block  320439 non-null  object \n",
      "dtypes: float64(4), object(9)\n",
      "memory usage: 39.0+ MB\n"
     ]
    },
    {
     "data": {
      "text/plain": "None"
     },
     "metadata": {},
     "output_type": "display_data"
    },
    {
     "data": {
      "text/plain": "      price    miles    year   make model  trim body_type vehicle_type  \\\n0  179999.0   9966.0  2017.0  Acura   NSX  Base     Coupe          Car   \n1  179995.0   5988.0  2017.0  Acura   NSX  Base     Coupe          Car   \n2  168528.0  24242.0  2017.0  Acura   NSX  Base     Coupe          Car   \n3  220000.0   6637.0  2020.0  Acura   NSX  Base     Coupe          Car   \n4  220000.0   6637.0  2020.0  Acura   NSX  Base     Coupe          Car   \n\n  drivetrain transmission                    fuel_type  engine_size  \\\n0        4WD    Automatic  Electric / Premium Unleaded          3.5   \n1        4WD    Automatic  Electric / Premium Unleaded          3.5   \n2        4WD    Automatic  Electric / Premium Unleaded          3.5   \n3        4WD    Automatic  Electric / Premium Unleaded          3.5   \n4        4WD    Automatic  Electric / Premium Unleaded          3.5   \n\n  engine_block  \n0            V  \n1            V  \n2            V  \n3            V  \n4            V  ",
      "text/html": "<div>\n<style scoped>\n    .dataframe tbody tr th:only-of-type {\n        vertical-align: middle;\n    }\n\n    .dataframe tbody tr th {\n        vertical-align: top;\n    }\n\n    .dataframe thead th {\n        text-align: right;\n    }\n</style>\n<table border=\"1\" class=\"dataframe\">\n  <thead>\n    <tr style=\"text-align: right;\">\n      <th></th>\n      <th>price</th>\n      <th>miles</th>\n      <th>year</th>\n      <th>make</th>\n      <th>model</th>\n      <th>trim</th>\n      <th>body_type</th>\n      <th>vehicle_type</th>\n      <th>drivetrain</th>\n      <th>transmission</th>\n      <th>fuel_type</th>\n      <th>engine_size</th>\n      <th>engine_block</th>\n    </tr>\n  </thead>\n  <tbody>\n    <tr>\n      <th>0</th>\n      <td>179999.0</td>\n      <td>9966.0</td>\n      <td>2017.0</td>\n      <td>Acura</td>\n      <td>NSX</td>\n      <td>Base</td>\n      <td>Coupe</td>\n      <td>Car</td>\n      <td>4WD</td>\n      <td>Automatic</td>\n      <td>Electric / Premium Unleaded</td>\n      <td>3.5</td>\n      <td>V</td>\n    </tr>\n    <tr>\n      <th>1</th>\n      <td>179995.0</td>\n      <td>5988.0</td>\n      <td>2017.0</td>\n      <td>Acura</td>\n      <td>NSX</td>\n      <td>Base</td>\n      <td>Coupe</td>\n      <td>Car</td>\n      <td>4WD</td>\n      <td>Automatic</td>\n      <td>Electric / Premium Unleaded</td>\n      <td>3.5</td>\n      <td>V</td>\n    </tr>\n    <tr>\n      <th>2</th>\n      <td>168528.0</td>\n      <td>24242.0</td>\n      <td>2017.0</td>\n      <td>Acura</td>\n      <td>NSX</td>\n      <td>Base</td>\n      <td>Coupe</td>\n      <td>Car</td>\n      <td>4WD</td>\n      <td>Automatic</td>\n      <td>Electric / Premium Unleaded</td>\n      <td>3.5</td>\n      <td>V</td>\n    </tr>\n    <tr>\n      <th>3</th>\n      <td>220000.0</td>\n      <td>6637.0</td>\n      <td>2020.0</td>\n      <td>Acura</td>\n      <td>NSX</td>\n      <td>Base</td>\n      <td>Coupe</td>\n      <td>Car</td>\n      <td>4WD</td>\n      <td>Automatic</td>\n      <td>Electric / Premium Unleaded</td>\n      <td>3.5</td>\n      <td>V</td>\n    </tr>\n    <tr>\n      <th>4</th>\n      <td>220000.0</td>\n      <td>6637.0</td>\n      <td>2020.0</td>\n      <td>Acura</td>\n      <td>NSX</td>\n      <td>Base</td>\n      <td>Coupe</td>\n      <td>Car</td>\n      <td>4WD</td>\n      <td>Automatic</td>\n      <td>Electric / Premium Unleaded</td>\n      <td>3.5</td>\n      <td>V</td>\n    </tr>\n  </tbody>\n</table>\n</div>"
     },
     "metadata": {},
     "output_type": "display_data"
    }
   ],
   "source": [
    "# in case we need to display multiple data in one chunk:\n",
    "from IPython.display import display\n",
    "\n",
    "to_drop = ['id', 'vin', 'stock_no', 'seller_name', 'street', 'city', 'state', 'zip']\n",
    "df_filtered = df.drop(columns=to_drop)\n",
    "display(df_filtered.info())\n",
    "display(df_filtered.head())"
   ],
   "metadata": {
    "collapsed": false,
    "pycharm": {
     "name": "#%%\n"
    }
   }
  },
  {
   "cell_type": "markdown",
   "source": [
    "The data types of columns are important while building a model, especially the columns that contain continuous values that act as discrete / category variables, i.e. year and engine_size:"
   ],
   "metadata": {
    "collapsed": false,
    "pycharm": {
     "name": "#%% md\n"
    }
   }
  },
  {
   "cell_type": "code",
   "execution_count": 4,
   "outputs": [
    {
     "name": "stdout",
     "output_type": "stream",
     "text": [
      "<class 'pandas.core.frame.DataFrame'>\n",
      "Int64Index: 274852 entries, 0 to 393602\n",
      "Data columns (total 13 columns):\n",
      " #   Column        Non-Null Count   Dtype  \n",
      "---  ------        --------------   -----  \n",
      " 0   price         274852 non-null  float64\n",
      " 1   miles         274852 non-null  float64\n",
      " 2   year          274852 non-null  object \n",
      " 3   make          274852 non-null  object \n",
      " 4   model         274852 non-null  object \n",
      " 5   trim          274852 non-null  object \n",
      " 6   body_type     274852 non-null  object \n",
      " 7   vehicle_type  274852 non-null  object \n",
      " 8   drivetrain    274852 non-null  object \n",
      " 9   transmission  274852 non-null  object \n",
      " 10  fuel_type     274852 non-null  object \n",
      " 11  engine_size   274852 non-null  object \n",
      " 12  engine_block  274852 non-null  object \n",
      "dtypes: float64(2), object(11)\n",
      "memory usage: 29.4+ MB\n"
     ]
    },
    {
     "data": {
      "text/plain": "None"
     },
     "metadata": {},
     "output_type": "display_data"
    },
    {
     "data": {
      "text/plain": "      price    miles  year   make model  trim body_type vehicle_type  \\\n0  179999.0   9966.0  2017  Acura   NSX  Base     Coupe          Car   \n1  179995.0   5988.0  2017  Acura   NSX  Base     Coupe          Car   \n2  168528.0  24242.0  2017  Acura   NSX  Base     Coupe          Car   \n3  220000.0   6637.0  2020  Acura   NSX  Base     Coupe          Car   \n4  220000.0   6637.0  2020  Acura   NSX  Base     Coupe          Car   \n\n  drivetrain transmission                    fuel_type engine_size  \\\n0        4WD    Automatic  Electric / Premium Unleaded         3.5   \n1        4WD    Automatic  Electric / Premium Unleaded         3.5   \n2        4WD    Automatic  Electric / Premium Unleaded         3.5   \n3        4WD    Automatic  Electric / Premium Unleaded         3.5   \n4        4WD    Automatic  Electric / Premium Unleaded         3.5   \n\n  engine_block  \n0            V  \n1            V  \n2            V  \n3            V  \n4            V  ",
      "text/html": "<div>\n<style scoped>\n    .dataframe tbody tr th:only-of-type {\n        vertical-align: middle;\n    }\n\n    .dataframe tbody tr th {\n        vertical-align: top;\n    }\n\n    .dataframe thead th {\n        text-align: right;\n    }\n</style>\n<table border=\"1\" class=\"dataframe\">\n  <thead>\n    <tr style=\"text-align: right;\">\n      <th></th>\n      <th>price</th>\n      <th>miles</th>\n      <th>year</th>\n      <th>make</th>\n      <th>model</th>\n      <th>trim</th>\n      <th>body_type</th>\n      <th>vehicle_type</th>\n      <th>drivetrain</th>\n      <th>transmission</th>\n      <th>fuel_type</th>\n      <th>engine_size</th>\n      <th>engine_block</th>\n    </tr>\n  </thead>\n  <tbody>\n    <tr>\n      <th>0</th>\n      <td>179999.0</td>\n      <td>9966.0</td>\n      <td>2017</td>\n      <td>Acura</td>\n      <td>NSX</td>\n      <td>Base</td>\n      <td>Coupe</td>\n      <td>Car</td>\n      <td>4WD</td>\n      <td>Automatic</td>\n      <td>Electric / Premium Unleaded</td>\n      <td>3.5</td>\n      <td>V</td>\n    </tr>\n    <tr>\n      <th>1</th>\n      <td>179995.0</td>\n      <td>5988.0</td>\n      <td>2017</td>\n      <td>Acura</td>\n      <td>NSX</td>\n      <td>Base</td>\n      <td>Coupe</td>\n      <td>Car</td>\n      <td>4WD</td>\n      <td>Automatic</td>\n      <td>Electric / Premium Unleaded</td>\n      <td>3.5</td>\n      <td>V</td>\n    </tr>\n    <tr>\n      <th>2</th>\n      <td>168528.0</td>\n      <td>24242.0</td>\n      <td>2017</td>\n      <td>Acura</td>\n      <td>NSX</td>\n      <td>Base</td>\n      <td>Coupe</td>\n      <td>Car</td>\n      <td>4WD</td>\n      <td>Automatic</td>\n      <td>Electric / Premium Unleaded</td>\n      <td>3.5</td>\n      <td>V</td>\n    </tr>\n    <tr>\n      <th>3</th>\n      <td>220000.0</td>\n      <td>6637.0</td>\n      <td>2020</td>\n      <td>Acura</td>\n      <td>NSX</td>\n      <td>Base</td>\n      <td>Coupe</td>\n      <td>Car</td>\n      <td>4WD</td>\n      <td>Automatic</td>\n      <td>Electric / Premium Unleaded</td>\n      <td>3.5</td>\n      <td>V</td>\n    </tr>\n    <tr>\n      <th>4</th>\n      <td>220000.0</td>\n      <td>6637.0</td>\n      <td>2020</td>\n      <td>Acura</td>\n      <td>NSX</td>\n      <td>Base</td>\n      <td>Coupe</td>\n      <td>Car</td>\n      <td>4WD</td>\n      <td>Automatic</td>\n      <td>Electric / Premium Unleaded</td>\n      <td>3.5</td>\n      <td>V</td>\n    </tr>\n  </tbody>\n</table>\n</div>"
     },
     "metadata": {},
     "output_type": "display_data"
    }
   ],
   "source": [
    "# filtering out rows that contain a null value\n",
    "df_filtered.dropna(inplace=True)\n",
    "# since years don't have fractional part, we only keep the integer part:\n",
    "df_filtered = df_filtered.astype({'year': int}).astype({'year': str})\n",
    "# engine sizes may have fractional part, so we keep them as they are:\n",
    "df_filtered = df_filtered.astype({'engine_size': str})\n",
    "display(df_filtered.info())\n",
    "display(df_filtered.head())"
   ],
   "metadata": {
    "collapsed": false,
    "pycharm": {
     "name": "#%%\n"
    }
   }
  },
  {
   "cell_type": "markdown",
   "source": [
    "Dataset is now ready, let's build a linear regression model for the price of the car using the other explanatory variables.\n",
    "\n",
    "Since we have (a lot of) categorical variables, we'll need to work with indicator variables, while this process is done automatically in R, we have to do the following in Python:"
   ],
   "metadata": {
    "collapsed": false,
    "pycharm": {
     "name": "#%% md\n"
    }
   }
  },
  {
   "cell_type": "code",
   "execution_count": 5,
   "outputs": [],
   "source": [
    "# importing the linear regression model:\n",
    "from sklearn.linear_model import LinearRegression\n",
    "\n",
    "# adding the indicator variables:\n",
    "X = pandas.get_dummies(data=df_filtered.drop(columns='price'))\n",
    "\n",
    "# building the model, takes some time!\n",
    "model = LinearRegression().fit(X=X, y=df_filtered.price)"
   ],
   "metadata": {
    "collapsed": false,
    "pycharm": {
     "name": "#%%\n"
    }
   }
  },
  {
   "cell_type": "markdown",
   "source": [
    "Once we have the model ready, we can check the coefficients for each variable:"
   ],
   "metadata": {
    "collapsed": false
   }
  },
  {
   "cell_type": "code",
   "execution_count": 6,
   "outputs": [
    {
     "name": "stdout",
     "output_type": "stream",
     "text": [
      "Intercept: 56176.960533302685\tR2: 0.9384244762475383\n"
     ]
    },
    {
     "data": {
      "text/plain": "                  Coefficient\nmiles               -0.050190\nyear_1990        -2675.448052\nyear_1991         5081.391780\nyear_1992       -37200.829686\nyear_1994       -18517.661545\n...                       ...\nengine_size_8.3 -19213.133584\nengine_size_8.4   8905.846595\nengine_block_H   -4471.128981\nengine_block_I     598.121389\nengine_block_V    3873.008349\n\n[2239 rows x 1 columns]",
      "text/html": "<div>\n<style scoped>\n    .dataframe tbody tr th:only-of-type {\n        vertical-align: middle;\n    }\n\n    .dataframe tbody tr th {\n        vertical-align: top;\n    }\n\n    .dataframe thead th {\n        text-align: right;\n    }\n</style>\n<table border=\"1\" class=\"dataframe\">\n  <thead>\n    <tr style=\"text-align: right;\">\n      <th></th>\n      <th>Coefficient</th>\n    </tr>\n  </thead>\n  <tbody>\n    <tr>\n      <th>miles</th>\n      <td>-0.050190</td>\n    </tr>\n    <tr>\n      <th>year_1990</th>\n      <td>-2675.448052</td>\n    </tr>\n    <tr>\n      <th>year_1991</th>\n      <td>5081.391780</td>\n    </tr>\n    <tr>\n      <th>year_1992</th>\n      <td>-37200.829686</td>\n    </tr>\n    <tr>\n      <th>year_1994</th>\n      <td>-18517.661545</td>\n    </tr>\n    <tr>\n      <th>...</th>\n      <td>...</td>\n    </tr>\n    <tr>\n      <th>engine_size_8.3</th>\n      <td>-19213.133584</td>\n    </tr>\n    <tr>\n      <th>engine_size_8.4</th>\n      <td>8905.846595</td>\n    </tr>\n    <tr>\n      <th>engine_block_H</th>\n      <td>-4471.128981</td>\n    </tr>\n    <tr>\n      <th>engine_block_I</th>\n      <td>598.121389</td>\n    </tr>\n    <tr>\n      <th>engine_block_V</th>\n      <td>3873.008349</td>\n    </tr>\n  </tbody>\n</table>\n<p>2239 rows × 1 columns</p>\n</div>"
     },
     "execution_count": 6,
     "metadata": {},
     "output_type": "execute_result"
    }
   ],
   "source": [
    "coefficients = pandas.DataFrame(model.coef_, X.columns, columns=['Coefficient'])\n",
    "print(f'Intercept: {model.intercept_}\\tR2: {model.score(X, df_filtered.price)}')\n",
    "coefficients"
   ],
   "metadata": {
    "collapsed": false,
    "pycharm": {
     "name": "#%%\n"
    }
   }
  },
  {
   "cell_type": "markdown",
   "source": [
    "From the coefficients, we can see that each mile reduces the car's predicted sale price by 5 cents and the sale price decreases as car gets older.\n",
    "\n",
    "Since data includes a lot of categorical variables, it's hard to make analysis on every variable, let's simplify:"
   ],
   "metadata": {
    "collapsed": false,
    "pycharm": {
     "name": "#%% md\n"
    }
   }
  },
  {
   "cell_type": "code",
   "execution_count": 7,
   "outputs": [
    {
     "name": "stdout",
     "output_type": "stream",
     "text": [
      "Intercept: 26863.533537565752\tR2: 0.22806182091738292\n"
     ]
    },
    {
     "data": {
      "text/plain": "            Coefficient\nmiles         -0.055160\nyear_1990  -3955.127728\nyear_1991  -1572.213176\nyear_1992  -8792.098292\nyear_1994  -9593.653404\nyear_1996   1694.597681\nyear_1997  15079.145221\nyear_1998   3867.561926\nyear_1999   2504.188068\nyear_2000  -3948.930136\nyear_2001  -6616.524273\nyear_2002  -3119.635141\nyear_2003  -3575.850031\nyear_2004  -5350.153193\nyear_2005  -7289.601251\nyear_2006  -6084.083171\nyear_2007  -6652.659471\nyear_2008  -5704.476430\nyear_2009  -6949.650472\nyear_2010  -7307.155906\nyear_2011  -6472.590308\nyear_2012  -6195.134500\nyear_2013  -5398.988943\nyear_2014  -3600.754548\nyear_2015  -1703.459302\nyear_2016   -972.591549\nyear_2017   2113.898574\nyear_2018   6496.371893\nyear_2019   8889.293354\nyear_2020  13943.938185\nyear_2021  26410.769328\nyear_2022  29855.566994",
      "text/html": "<div>\n<style scoped>\n    .dataframe tbody tr th:only-of-type {\n        vertical-align: middle;\n    }\n\n    .dataframe tbody tr th {\n        vertical-align: top;\n    }\n\n    .dataframe thead th {\n        text-align: right;\n    }\n</style>\n<table border=\"1\" class=\"dataframe\">\n  <thead>\n    <tr style=\"text-align: right;\">\n      <th></th>\n      <th>Coefficient</th>\n    </tr>\n  </thead>\n  <tbody>\n    <tr>\n      <th>miles</th>\n      <td>-0.055160</td>\n    </tr>\n    <tr>\n      <th>year_1990</th>\n      <td>-3955.127728</td>\n    </tr>\n    <tr>\n      <th>year_1991</th>\n      <td>-1572.213176</td>\n    </tr>\n    <tr>\n      <th>year_1992</th>\n      <td>-8792.098292</td>\n    </tr>\n    <tr>\n      <th>year_1994</th>\n      <td>-9593.653404</td>\n    </tr>\n    <tr>\n      <th>year_1996</th>\n      <td>1694.597681</td>\n    </tr>\n    <tr>\n      <th>year_1997</th>\n      <td>15079.145221</td>\n    </tr>\n    <tr>\n      <th>year_1998</th>\n      <td>3867.561926</td>\n    </tr>\n    <tr>\n      <th>year_1999</th>\n      <td>2504.188068</td>\n    </tr>\n    <tr>\n      <th>year_2000</th>\n      <td>-3948.930136</td>\n    </tr>\n    <tr>\n      <th>year_2001</th>\n      <td>-6616.524273</td>\n    </tr>\n    <tr>\n      <th>year_2002</th>\n      <td>-3119.635141</td>\n    </tr>\n    <tr>\n      <th>year_2003</th>\n      <td>-3575.850031</td>\n    </tr>\n    <tr>\n      <th>year_2004</th>\n      <td>-5350.153193</td>\n    </tr>\n    <tr>\n      <th>year_2005</th>\n      <td>-7289.601251</td>\n    </tr>\n    <tr>\n      <th>year_2006</th>\n      <td>-6084.083171</td>\n    </tr>\n    <tr>\n      <th>year_2007</th>\n      <td>-6652.659471</td>\n    </tr>\n    <tr>\n      <th>year_2008</th>\n      <td>-5704.476430</td>\n    </tr>\n    <tr>\n      <th>year_2009</th>\n      <td>-6949.650472</td>\n    </tr>\n    <tr>\n      <th>year_2010</th>\n      <td>-7307.155906</td>\n    </tr>\n    <tr>\n      <th>year_2011</th>\n      <td>-6472.590308</td>\n    </tr>\n    <tr>\n      <th>year_2012</th>\n      <td>-6195.134500</td>\n    </tr>\n    <tr>\n      <th>year_2013</th>\n      <td>-5398.988943</td>\n    </tr>\n    <tr>\n      <th>year_2014</th>\n      <td>-3600.754548</td>\n    </tr>\n    <tr>\n      <th>year_2015</th>\n      <td>-1703.459302</td>\n    </tr>\n    <tr>\n      <th>year_2016</th>\n      <td>-972.591549</td>\n    </tr>\n    <tr>\n      <th>year_2017</th>\n      <td>2113.898574</td>\n    </tr>\n    <tr>\n      <th>year_2018</th>\n      <td>6496.371893</td>\n    </tr>\n    <tr>\n      <th>year_2019</th>\n      <td>8889.293354</td>\n    </tr>\n    <tr>\n      <th>year_2020</th>\n      <td>13943.938185</td>\n    </tr>\n    <tr>\n      <th>year_2021</th>\n      <td>26410.769328</td>\n    </tr>\n    <tr>\n      <th>year_2022</th>\n      <td>29855.566994</td>\n    </tr>\n  </tbody>\n</table>\n</div>"
     },
     "execution_count": 7,
     "metadata": {},
     "output_type": "execute_result"
    }
   ],
   "source": [
    "df_small = df_filtered.loc[:, ['price', 'miles', 'year']]\n",
    "X_small = pandas.get_dummies(data=df_small.drop(columns='price'))\n",
    "model_small = LinearRegression().fit(X=X_small, y=df_small.price)\n",
    "coefficients_small = pandas.DataFrame(model_small.coef_, X_small.columns, columns=['Coefficient'])\n",
    "print(f'Intercept: {model_small.intercept_}\\tR2: {model_small.score(X_small, df_small.price)}')\n",
    "coefficients_small"
   ],
   "metadata": {
    "collapsed": false,
    "pycharm": {
     "name": "#%%\n"
    }
   }
  },
  {
   "cell_type": "markdown",
   "source": [
    "As expected, smaller model has a lower $R^2$ value, let's calculate the p-values of variables, manually:"
   ],
   "metadata": {
    "collapsed": false,
    "pycharm": {
     "name": "#%% md\n"
    }
   }
  },
  {
   "cell_type": "code",
   "execution_count": 8,
   "outputs": [
    {
     "data": {
      "text/plain": "            Coefficient\nmiles      0.000000e+00\nyear_1990  8.197154e-01\nyear_1991  8.980567e-01\nyear_1992  6.124121e-01\nyear_1994  5.803959e-01\nyear_1996  8.901633e-01\nyear_1997  2.624632e-03\nyear_1998  2.656495e-01\nyear_1999  4.295245e-01\nyear_2000  3.760851e-02\nyear_2001  9.240521e-05\nyear_2002  1.524093e-02\nyear_2003  5.008985e-04\nyear_2004  1.232303e-11\nyear_2005  0.000000e+00\nyear_2006  0.000000e+00\nyear_2007  0.000000e+00\nyear_2008  0.000000e+00\nyear_2009  0.000000e+00\nyear_2010  0.000000e+00\nyear_2011  0.000000e+00\nyear_2012  0.000000e+00\nyear_2013  0.000000e+00\nyear_2014  0.000000e+00\nyear_2015  0.000000e+00\nyear_2016  6.838974e-14\nyear_2017  0.000000e+00\nyear_2018  0.000000e+00\nyear_2019  0.000000e+00\nyear_2020  0.000000e+00\nyear_2021  0.000000e+00\nyear_2022  0.000000e+00",
      "text/html": "<div>\n<style scoped>\n    .dataframe tbody tr th:only-of-type {\n        vertical-align: middle;\n    }\n\n    .dataframe tbody tr th {\n        vertical-align: top;\n    }\n\n    .dataframe thead th {\n        text-align: right;\n    }\n</style>\n<table border=\"1\" class=\"dataframe\">\n  <thead>\n    <tr style=\"text-align: right;\">\n      <th></th>\n      <th>Coefficient</th>\n    </tr>\n  </thead>\n  <tbody>\n    <tr>\n      <th>miles</th>\n      <td>0.000000e+00</td>\n    </tr>\n    <tr>\n      <th>year_1990</th>\n      <td>8.197154e-01</td>\n    </tr>\n    <tr>\n      <th>year_1991</th>\n      <td>8.980567e-01</td>\n    </tr>\n    <tr>\n      <th>year_1992</th>\n      <td>6.124121e-01</td>\n    </tr>\n    <tr>\n      <th>year_1994</th>\n      <td>5.803959e-01</td>\n    </tr>\n    <tr>\n      <th>year_1996</th>\n      <td>8.901633e-01</td>\n    </tr>\n    <tr>\n      <th>year_1997</th>\n      <td>2.624632e-03</td>\n    </tr>\n    <tr>\n      <th>year_1998</th>\n      <td>2.656495e-01</td>\n    </tr>\n    <tr>\n      <th>year_1999</th>\n      <td>4.295245e-01</td>\n    </tr>\n    <tr>\n      <th>year_2000</th>\n      <td>3.760851e-02</td>\n    </tr>\n    <tr>\n      <th>year_2001</th>\n      <td>9.240521e-05</td>\n    </tr>\n    <tr>\n      <th>year_2002</th>\n      <td>1.524093e-02</td>\n    </tr>\n    <tr>\n      <th>year_2003</th>\n      <td>5.008985e-04</td>\n    </tr>\n    <tr>\n      <th>year_2004</th>\n      <td>1.232303e-11</td>\n    </tr>\n    <tr>\n      <th>year_2005</th>\n      <td>0.000000e+00</td>\n    </tr>\n    <tr>\n      <th>year_2006</th>\n      <td>0.000000e+00</td>\n    </tr>\n    <tr>\n      <th>year_2007</th>\n      <td>0.000000e+00</td>\n    </tr>\n    <tr>\n      <th>year_2008</th>\n      <td>0.000000e+00</td>\n    </tr>\n    <tr>\n      <th>year_2009</th>\n      <td>0.000000e+00</td>\n    </tr>\n    <tr>\n      <th>year_2010</th>\n      <td>0.000000e+00</td>\n    </tr>\n    <tr>\n      <th>year_2011</th>\n      <td>0.000000e+00</td>\n    </tr>\n    <tr>\n      <th>year_2012</th>\n      <td>0.000000e+00</td>\n    </tr>\n    <tr>\n      <th>year_2013</th>\n      <td>0.000000e+00</td>\n    </tr>\n    <tr>\n      <th>year_2014</th>\n      <td>0.000000e+00</td>\n    </tr>\n    <tr>\n      <th>year_2015</th>\n      <td>0.000000e+00</td>\n    </tr>\n    <tr>\n      <th>year_2016</th>\n      <td>6.838974e-14</td>\n    </tr>\n    <tr>\n      <th>year_2017</th>\n      <td>0.000000e+00</td>\n    </tr>\n    <tr>\n      <th>year_2018</th>\n      <td>0.000000e+00</td>\n    </tr>\n    <tr>\n      <th>year_2019</th>\n      <td>0.000000e+00</td>\n    </tr>\n    <tr>\n      <th>year_2020</th>\n      <td>0.000000e+00</td>\n    </tr>\n    <tr>\n      <th>year_2021</th>\n      <td>0.000000e+00</td>\n    </tr>\n    <tr>\n      <th>year_2022</th>\n      <td>0.000000e+00</td>\n    </tr>\n  </tbody>\n</table>\n</div>"
     },
     "execution_count": 8,
     "metadata": {},
     "output_type": "execute_result"
    }
   ],
   "source": [
    "from scipy import stats\n",
    "sse = numpy.sum((model_small.predict(X_small) - df_small.price) ** 2, axis=0) / float(X_small.shape[0] - X_small.shape[1])\n",
    "se = numpy.array([\n",
    "    numpy.sqrt(numpy.diagonal(sse * numpy.linalg.inv(numpy.dot(X_small.T, X_small))))\n",
    "            ])\n",
    "\n",
    "t_values = model_small.coef_ / se\n",
    "p_values = 2 * (1 - stats.t.cdf(numpy.abs(t_values), df_small.price.shape[0] - X_small.shape[1]))\n",
    "p_values_df = pandas.DataFrame(p_values.T, X_small.columns, columns=['Coefficient'])\n",
    "p_values_df"
   ],
   "metadata": {
    "collapsed": false,
    "pycharm": {
     "name": "#%%\n"
    }
   }
  },
  {
   "cell_type": "markdown",
   "source": [
    "At 95% confidence level, we can conclude that the following variables could have a zero valued coefficient:"
   ],
   "metadata": {
    "collapsed": false,
    "pycharm": {
     "name": "#%% md\n"
    }
   }
  },
  {
   "cell_type": "code",
   "execution_count": 9,
   "outputs": [
    {
     "data": {
      "text/plain": "           Coefficient\nyear_1990     0.819715\nyear_1991     0.898057\nyear_1992     0.612412\nyear_1994     0.580396\nyear_1996     0.890163\nyear_1998     0.265649\nyear_1999     0.429524",
      "text/html": "<div>\n<style scoped>\n    .dataframe tbody tr th:only-of-type {\n        vertical-align: middle;\n    }\n\n    .dataframe tbody tr th {\n        vertical-align: top;\n    }\n\n    .dataframe thead th {\n        text-align: right;\n    }\n</style>\n<table border=\"1\" class=\"dataframe\">\n  <thead>\n    <tr style=\"text-align: right;\">\n      <th></th>\n      <th>Coefficient</th>\n    </tr>\n  </thead>\n  <tbody>\n    <tr>\n      <th>year_1990</th>\n      <td>0.819715</td>\n    </tr>\n    <tr>\n      <th>year_1991</th>\n      <td>0.898057</td>\n    </tr>\n    <tr>\n      <th>year_1992</th>\n      <td>0.612412</td>\n    </tr>\n    <tr>\n      <th>year_1994</th>\n      <td>0.580396</td>\n    </tr>\n    <tr>\n      <th>year_1996</th>\n      <td>0.890163</td>\n    </tr>\n    <tr>\n      <th>year_1998</th>\n      <td>0.265649</td>\n    </tr>\n    <tr>\n      <th>year_1999</th>\n      <td>0.429524</td>\n    </tr>\n  </tbody>\n</table>\n</div>"
     },
     "execution_count": 9,
     "metadata": {},
     "output_type": "execute_result"
    }
   ],
   "source": [
    "p_values_df.loc[p_values_df.Coefficient > 1 - 0.95]"
   ],
   "metadata": {
    "collapsed": false,
    "pycharm": {
     "name": "#%%\n"
    }
   }
  }
 ],
 "metadata": {
  "kernelspec": {
   "display_name": "Python 3",
   "language": "python",
   "name": "python3"
  },
  "language_info": {
   "codemirror_mode": {
    "name": "ipython",
    "version": 2
   },
   "file_extension": ".py",
   "mimetype": "text/x-python",
   "name": "python",
   "nbconvert_exporter": "python",
   "pygments_lexer": "ipython2",
   "version": "2.7.6"
  }
 },
 "nbformat": 4,
 "nbformat_minor": 0
}