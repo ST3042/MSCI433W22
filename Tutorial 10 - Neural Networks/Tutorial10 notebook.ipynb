{
 "cells": [
  {
   "cell_type": "code",
   "execution_count": null,
   "metadata": {
    "collapsed": true
   },
   "outputs": [],
   "source": [
    "import numpy\n",
    "import plotly.offline\n",
    "import scipy\n",
    "import pandas\n",
    "import matplotlib.pyplot as plt\n",
    "import sklearn\n",
    "from keras.models import Sequential\n",
    "from keras.layers import Dense\n",
    "import tensorflow as tf\n",
    "from sklearn.preprocessing import LabelEncoder"
   ]
  },
  {
   "cell_type": "markdown",
   "source": [
    "## Neural Networks\n",
    "\n",
    "This week, we'll predict the digits in an image using a neural network. Let's check our dataset:"
   ],
   "metadata": {
    "collapsed": false
   }
  },
  {
   "cell_type": "code",
   "execution_count": null,
   "outputs": [],
   "source": [
    "from keras.datasets import mnist\n",
    "\n",
    "(train_X, train_Y), (test_X, test_Y) = mnist.load_data()\n",
    "train_X.shape"
   ],
   "metadata": {
    "collapsed": false,
    "pycharm": {
     "name": "#%%\n"
    }
   }
  },
  {
   "cell_type": "markdown",
   "source": [
    "We can see that there are 60,000 square images in our training set, loading some images in the train set, and checking an example input:"
   ],
   "metadata": {
    "collapsed": false
   }
  },
  {
   "cell_type": "code",
   "execution_count": null,
   "outputs": [],
   "source": [
    "plot_inds = [2, 433, 433]\n",
    "plt.figure()\n",
    "# subplot(n_row n_col draw_index), e.g. 123: 3rd index on a 1x2 plot grid\n",
    "[(plt.subplot(130 + ind + 1), plt.imshow(train_X[train_ind])) for ind, train_ind in enumerate(plot_inds)]\n",
    "# we need to specify color mapping to draw image correctly\n",
    "plt.figure()\n",
    "[(\n",
    "    plt.subplot(130 + ind + 1),\n",
    "    plt.imshow(train_X[train_ind], cmap=plt.get_cmap('gray'))\n",
    "  ) for ind, train_ind in enumerate(plot_inds)]\n",
    "# as an example, 14th row of an input\n",
    "display(train_X[433, 13])\n",
    "print(f'Max value: {train_X.max()}, Min value: {train_X.min()}')\n",
    "# let's see what value Y takes for this X:\n",
    "print(f'Y: {train_Y[433]}')"
   ],
   "metadata": {
    "collapsed": false,
    "pycharm": {
     "name": "#%%\n"
    }
   }
  },
  {
   "cell_type": "markdown",
   "source": [
    "As we can see, inputs take values between 255 and 0, each corresponding to the level of whiteness in a pixel, and Y values are just the numbers, so we should divide X by 255 and convert Y to one-hot encoding."
   ],
   "metadata": {
    "collapsed": false
   }
  },
  {
   "cell_type": "code",
   "execution_count": null,
   "outputs": [],
   "source": [
    "train_X_scaled = train_X / 255\n",
    "test_X_scaled = test_X / 255\n",
    "train_Y01 = pandas.get_dummies(train_Y).to_numpy()\n",
    "test_Y01 = pandas.get_dummies(test_Y).to_numpy()"
   ],
   "metadata": {
    "collapsed": false,
    "pycharm": {
     "name": "#%%\n"
    }
   }
  },
  {
   "cell_type": "markdown",
   "source": [
    "Let's start by building a simple neural network:"
   ],
   "metadata": {
    "collapsed": false
   }
  },
  {
   "cell_type": "code",
   "execution_count": null,
   "outputs": [],
   "source": [
    "model = Sequential()\n",
    "# single layer, binary output corresponding to the one-hot encoding\n",
    "model.add(Dense(train_Y01.shape[1], input_dim=numpy.prod(train_X.shape[1:]),\n",
    "                activation='sigmoid'))\n",
    "# we can include metrics to keep track of while training the model\n",
    "model.compile(optimizer='adam', loss='binary_crossentropy',\n",
    "              metrics=['accuracy'])\n",
    "# training\n",
    "model.fit(\n",
    "    train_X_scaled.reshape(train_X.shape[0], numpy.prod(train_X.shape[1:])),\n",
    "    train_Y01, epochs=5, batch_size=10)"
   ],
   "metadata": {
    "collapsed": false,
    "pycharm": {
     "name": "#%%\n"
    }
   }
  },
  {
   "cell_type": "markdown",
   "source": [
    "Making predictions on test set using the trained model:"
   ],
   "metadata": {
    "collapsed": false
   }
  },
  {
   "cell_type": "code",
   "execution_count": null,
   "outputs": [],
   "source": [
    "# accuracy over the test set\n",
    "loss, accuracy = model.evaluate(\n",
    "    test_X_scaled.reshape(test_X.shape[0], numpy.prod(train_X.shape[1:])),\n",
    "    test_Y01)\n",
    "print(f'Accuracy: {accuracy*100:.2f}%')\n",
    "# predicting a single row:\n",
    "test_row_id = 433\n",
    "actual_value = test_Y[test_row_id]\n",
    "X_values = test_X_scaled[test_row_id]\n",
    "predicted_outcome = model.predict(\n",
    "    X_values.reshape(1, numpy.prod(train_X.shape[1:]))).argmax()\n",
    "# plotting\n",
    "plt.figure()\n",
    "plt.title(f'Model prediction for this digit: {predicted_outcome}')\n",
    "plt.imshow(X_values, cmap=plt.get_cmap('gray'))"
   ],
   "metadata": {
    "collapsed": false,
    "pycharm": {
     "name": "#%%\n"
    }
   }
  },
  {
   "cell_type": "markdown",
   "source": [
    "Accuracy isn't too good for this type of task, so let's add more layers, increase the number of iterations and see what happens:"
   ],
   "metadata": {
    "collapsed": false
   }
  },
  {
   "cell_type": "code",
   "execution_count": null,
   "outputs": [],
   "source": [
    "model = Sequential()\n",
    "model.add(Dense(50, input_dim=numpy.prod(train_X.shape[1:]),\n",
    "                activation='sigmoid'))\n",
    "model.add(Dense(50, activation='relu'))\n",
    "model.add(Dense(50, activation='sigmoid'))\n",
    "model.add(Dense(50, activation='relu'))\n",
    "model.add(Dense(50, activation='sigmoid'))\n",
    "model.add(Dense(50, activation='relu'))\n",
    "model.add(Dense(50, activation='sigmoid'))\n",
    "# last layer\n",
    "model.add(Dense(train_Y01.shape[1], activation='sigmoid'))\n",
    "# we can include metrics to keep track of while training the model\n",
    "model.compile(optimizer='adam', loss='binary_crossentropy',\n",
    "              metrics=['accuracy'])\n",
    "# training\n",
    "model.fit(\n",
    "    train_X_scaled.reshape(train_X.shape[0], numpy.prod(train_X.shape[1:])),\n",
    "    train_Y01, epochs=30, batch_size=20)"
   ],
   "metadata": {
    "collapsed": false,
    "pycharm": {
     "name": "#%%\n"
    }
   }
  },
  {
   "cell_type": "markdown",
   "source": [
    "Notice how accuracy improves at a slower rate initially, compared to the simple network. Calculating the accuracy on test set:"
   ],
   "metadata": {
    "collapsed": false
   }
  },
  {
   "cell_type": "code",
   "execution_count": null,
   "outputs": [],
   "source": [
    "# accuracy over the test set\n",
    "loss, accuracy = model.evaluate(\n",
    "    test_X_scaled.reshape(test_X.shape[0], numpy.prod(train_X.shape[1:])),\n",
    "    test_Y01)\n",
    "print(f'Accuracy: {accuracy*100:.2f}%')\n",
    "# predicting a single row:\n",
    "test_row_id = 433\n",
    "actual_value = test_Y[test_row_id]\n",
    "X_values = test_X_scaled[test_row_id]\n",
    "predicted_outcome = model.predict(\n",
    "    X_values.reshape(1, numpy.prod(train_X.shape[1:]))).argmax()\n",
    "# plotting\n",
    "plt.figure()\n",
    "plt.title(f'Model prediction for this digit: {predicted_outcome}')\n",
    "plt.imshow(X_values, cmap=plt.get_cmap('gray'))"
   ],
   "metadata": {
    "collapsed": false,
    "pycharm": {
     "name": "#%%\n"
    }
   }
  },
  {
   "cell_type": "markdown",
   "source": [
    "We can see that accuracy has improved! Now let's train a neural network on the titanic dataset."
   ],
   "metadata": {
    "collapsed": false
   }
  },
  {
   "cell_type": "code",
   "execution_count": null,
   "outputs": [],
   "source": [
    "from sklearn.model_selection import train_test_split\n",
    "\n",
    "titanic_df = pandas.read_csv('titanic_train.csv')\n",
    "columns_to_drop = ['PassengerId', 'Name', 'Ticket', 'Fare', 'Cabin']\n",
    "titanic_df = titanic_df.drop(columns=columns_to_drop).dropna()\n",
    "titanic_df.head()\n",
    "# X and y values:\n",
    "X_, y = titanic_df.drop(columns=['Survived']), titanic_df['Survived'].to_numpy()\n",
    "X = pandas.get_dummies(X_).to_numpy()\n",
    "train_X, test_X, train_Y01, test_Y01 = train_test_split(X, y, test_size=0.33,\n",
    "                                                    random_state=433)\n",
    "# scaling X\n",
    "max_values = train_X.max(axis=0)\n",
    "train_X_scaled = train_X / max_values\n",
    "test_X_scaled = test_X / max_values"
   ],
   "metadata": {
    "collapsed": false,
    "pycharm": {
     "name": "#%%\n"
    }
   }
  },
  {
   "cell_type": "markdown",
   "source": [
    "Using a simple network:"
   ],
   "metadata": {
    "collapsed": false
   }
  },
  {
   "cell_type": "code",
   "execution_count": null,
   "outputs": [],
   "source": [
    "model = Sequential()\n",
    "model.add(Dense(1, input_dim=numpy.prod(train_X.shape[1:]),\n",
    "                activation='sigmoid'))\n",
    "# we can include metrics to keep track of while training the model\n",
    "model.compile(optimizer='adam', loss='binary_crossentropy',\n",
    "              metrics=['accuracy'])\n",
    "# training\n",
    "model.fit(\n",
    "    train_X_scaled.reshape(train_X.shape[0], numpy.prod(train_X.shape[1:])),\n",
    "    train_Y01, epochs=30, batch_size=20)"
   ],
   "metadata": {
    "collapsed": false,
    "pycharm": {
     "name": "#%%\n"
    }
   }
  },
  {
   "cell_type": "markdown",
   "source": [
    "Accuracy on test:"
   ],
   "metadata": {
    "collapsed": false
   }
  },
  {
   "cell_type": "code",
   "execution_count": null,
   "outputs": [],
   "source": [
    "# accuracy over the test set\n",
    "loss, accuracy = model.evaluate(\n",
    "    test_X_scaled.reshape(test_X.shape[0], numpy.prod(train_X.shape[1:])),\n",
    "    test_Y01)\n",
    "print(f'Accuracy: {accuracy*100:.2f}%')\n",
    "# predicting a single row:\n",
    "test_row_id = 200\n",
    "actual_value = test_Y[test_row_id]\n",
    "X_values = test_X_scaled[test_row_id]\n",
    "predicted_outcome = model.predict(\n",
    "    X_values.reshape(1, numpy.prod(train_X.shape[1:])))[0, 0]\n",
    "print(\n",
    "    f'Row: {test_row_id}, '\n",
    "    f'Actual: {\"Survived\" if test_Y[test_row_id] else \"Did not survive\"}'\n",
    "    f', Predicted: {\"Survived\" if predicted_outcome > 0.5 else \"Did not survive\"}')\n",
    "# predictions over the whole test set:\n",
    "X_values = test_X_scaled\n",
    "actual_values = test_Y\n",
    "data = [\n",
    "        ('Yes' if survived else 'No',\n",
    "         'Yes' if pred > 0.5 else 'No')\n",
    "        for pred, survived in zip(\n",
    "            model.predict(X_values.reshape(\n",
    "                X_values.shape[0], numpy.prod(train_X.shape[1:])))[:, 0],\n",
    "            actual_values\n",
    "            )\n",
    "        ]\n",
    "results_df = pandas.DataFrame(data, columns=['Actual', 'Predicted'])\n",
    "model.predict(X_values.reshape(\n",
    "                X_values.shape[0], numpy.prod(train_X.shape[1:])))[:, 0]"
   ],
   "metadata": {
    "collapsed": false,
    "pycharm": {
     "name": "#%%\n"
    }
   }
  }
 ],
 "metadata": {
  "kernelspec": {
   "display_name": "Python 3",
   "language": "python",
   "name": "python3"
  },
  "language_info": {
   "codemirror_mode": {
    "name": "ipython",
    "version": 2
   },
   "file_extension": ".py",
   "mimetype": "text/x-python",
   "name": "python",
   "nbconvert_exporter": "python",
   "pygments_lexer": "ipython2",
   "version": "2.7.6"
  }
 },
 "nbformat": 4,
 "nbformat_minor": 0
}