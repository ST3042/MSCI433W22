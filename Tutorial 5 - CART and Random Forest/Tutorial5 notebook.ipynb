{
 "cells": [
  {
   "cell_type": "markdown",
   "source": [
    "Module imports"
   ],
   "metadata": {
    "collapsed": false
   }
  },
  {
   "cell_type": "code",
   "execution_count": 1,
   "outputs": [],
   "source": [
    "import numpy\n",
    "import scipy\n",
    "import pandas\n",
    "import matplotlib.pyplot as plt\n",
    "import sklearn"
   ],
   "metadata": {
    "collapsed": false,
    "pycharm": {
     "name": "#%%\n"
    }
   }
  },
  {
   "cell_type": "markdown",
   "source": [
    "This week we'll focus on how to generate random problems and apply CART and Random Forest.\n",
    "\n",
    "## CART\n",
    "Random problem generators and data splitter:"
   ],
   "metadata": {
    "collapsed": false
   }
  },
  {
   "cell_type": "code",
   "execution_count": 2,
   "outputs": [],
   "source": [
    "from sklearn.datasets import make_regression\n",
    "from sklearn.datasets import make_classification\n",
    "\n",
    "from sklearn.model_selection import train_test_split"
   ],
   "metadata": {
    "collapsed": false,
    "pycharm": {
     "name": "#%%\n"
    }
   }
  },
  {
   "cell_type": "markdown",
   "source": [
    "We can use graphviz to visualize decision trees but its installation requires some updates to path variables,\n",
    "so it's commented out."
   ],
   "metadata": {
    "collapsed": false
   }
  },
  {
   "cell_type": "code",
   "execution_count": 3,
   "outputs": [],
   "source": [
    "# import graphviz"
   ],
   "metadata": {
    "collapsed": false,
    "pycharm": {
     "name": "#%%\n"
    }
   }
  },
  {
   "cell_type": "markdown",
   "source": [
    "Generating the data using a random problem generator:"
   ],
   "metadata": {
    "collapsed": false
   }
  },
  {
   "cell_type": "code",
   "execution_count": 4,
   "outputs": [],
   "source": [
    "X, y = make_classification(n_samples=500, n_features=10, n_informative=6, n_redundant=4, random_state=433,\n",
    "                           n_classes=2)"
   ],
   "metadata": {
    "collapsed": false,
    "pycharm": {
     "name": "#%%\n"
    }
   }
  },
  {
   "cell_type": "markdown",
   "source": [
    "These generators are useful for understanding how a model builder works without dealing\n",
    "with data."
   ],
   "metadata": {
    "collapsed": false,
    "pycharm": {
     "name": "#%% md\n"
    }
   }
  },
  {
   "cell_type": "code",
   "execution_count": 5,
   "outputs": [],
   "source": [
    "X_train, X_test, y_train, y_test = train_test_split(X, y, test_size=0.33, random_state=433)\n",
    "\n",
    "from sklearn.tree import DecisionTreeClassifier\n",
    "# from sklearn.tree import export_graphviz\n",
    "\n",
    "model = DecisionTreeClassifier(criterion='gini', splitter='best', max_depth=4, class_weight=None)\n",
    "model.fit(X_train, y_train)\n",
    "\n",
    "train_prediction = model.predict(X_train)\n",
    "test_prediction = model.predict(X_test)\n",
    "\n",
    "# graph_data = export_graphviz(model, filled=True, rounded=True)  # if graphviz is installed\n",
    "# graph = graphviz.Source(graph_data)\n",
    "\n",
    "# graph"
   ],
   "metadata": {
    "collapsed": false,
    "pycharm": {
     "name": "#%%\n"
    }
   }
  },
  {
   "cell_type": "markdown",
   "source": [
    "We can take a quick look at the model summary (Dobilas 2022)"
   ],
   "metadata": {
    "collapsed": false
   }
  },
  {
   "cell_type": "code",
   "execution_count": 6,
   "outputs": [
    {
     "name": "stdout",
     "output_type": "stream",
     "text": [
      "*************** Tree Summary ***************\n",
      "Classes:  [0 1]\n",
      "Tree Depth:  4\n",
      "No. of leaves:  14\n",
      "No. of features:  10\n",
      "--------------------------------------------------------\n",
      "\n",
      "*************** Evaluation on Test Data ***************\n",
      "Accuracy Score:  0.7212121212121212\n",
      "              precision    recall  f1-score   support\n",
      "\n",
      "           0       0.63      0.92      0.74        73\n",
      "           1       0.90      0.57      0.69        92\n",
      "\n",
      "    accuracy                           0.72       165\n",
      "   macro avg       0.76      0.74      0.72       165\n",
      "weighted avg       0.78      0.72      0.72       165\n",
      "\n",
      "--------------------------------------------------------\n",
      "\n",
      "*************** Evaluation on Training Data ***************\n",
      "Accuracy Score:  0.826865671641791\n",
      "              precision    recall  f1-score   support\n",
      "\n",
      "           0       0.77      0.96      0.85       178\n",
      "           1       0.93      0.68      0.79       157\n",
      "\n",
      "    accuracy                           0.83       335\n",
      "   macro avg       0.85      0.82      0.82       335\n",
      "weighted avg       0.85      0.83      0.82       335\n",
      "\n",
      "--------------------------------------------------------\n"
     ]
    }
   ],
   "source": [
    "from sklearn.metrics import classification_report # for model evaluation metrics\n",
    "\n",
    "print('*************** Tree Summary ***************')\n",
    "print('Classes: ', model.classes_)\n",
    "print('Tree Depth: ', model.tree_.max_depth)\n",
    "print('No. of leaves: ', model.tree_.n_leaves)\n",
    "print('No. of features: ', model.n_features_in_)\n",
    "print('--------------------------------------------------------')\n",
    "print(\"\")\n",
    "\n",
    "print('*************** Evaluation on Test Data ***************')\n",
    "score_te = model.score(X_test, y_test)\n",
    "print('Accuracy Score: ', score_te)\n",
    "# Look at classification report to evaluate the model\n",
    "print(classification_report(y_test, test_prediction))\n",
    "print('--------------------------------------------------------')\n",
    "print(\"\")\n",
    "\n",
    "print('*************** Evaluation on Training Data ***************')\n",
    "score_tr = model.score(X_train, y_train)\n",
    "print('Accuracy Score: ', score_tr)\n",
    "# Look at classification report to evaluate the model\n",
    "print(classification_report(y_train, train_prediction))\n",
    "print('--------------------------------------------------------')"
   ],
   "metadata": {
    "collapsed": false,
    "pycharm": {
     "name": "#%%\n"
    }
   }
  },
  {
   "cell_type": "markdown",
   "source": [
    "We can follow a similar process to fit a linear model:"
   ],
   "metadata": {
    "collapsed": false
   }
  },
  {
   "cell_type": "code",
   "execution_count": 7,
   "outputs": [
    {
     "name": "stdout",
     "output_type": "stream",
     "text": [
      "*************** Tree Summary ***************\n",
      "Tree Depth:  4\n",
      "No. of leaves:  16\n",
      "No. of features:  5\n",
      "--------------------------------------------------------\n",
      "\n",
      "*************** Evaluation on Test Data ***************\n",
      "Accuracy Score:  0.7405744279695772\n",
      "--------------------------------------------------------\n",
      "\n",
      "*************** Evaluation on Training Data ***************\n",
      "Accuracy Score:  0.8596269596674244\n",
      "--------------------------------------------------------\n"
     ]
    }
   ],
   "source": [
    "X, y = make_regression(n_samples=400, n_features=5, n_informative=3, random_state=433)\n",
    "\n",
    "X_train, X_test, y_train, y_test = train_test_split(X, y, test_size=0.33, random_state=433)\n",
    "\n",
    "from sklearn.tree import DecisionTreeRegressor\n",
    "\n",
    "model = DecisionTreeRegressor(criterion='squared_error', splitter='best', max_depth=4)\n",
    "model.fit(X_train, y_train)\n",
    "\n",
    "train_prediction = model.predict(X_train)\n",
    "test_prediction = model.predict(X_test)\n",
    "\n",
    "print('*************** Tree Summary ***************')\n",
    "print('Tree Depth: ', model.tree_.max_depth)\n",
    "print('No. of leaves: ', model.tree_.n_leaves)\n",
    "print('No. of features: ', model.n_features_in_)\n",
    "print('--------------------------------------------------------')\n",
    "print(\"\")\n",
    "\n",
    "print('*************** Evaluation on Test Data ***************')\n",
    "score_te = model.score(X_test, y_test)\n",
    "print('Accuracy Score: ', score_te)\n",
    "print('--------------------------------------------------------')\n",
    "print(\"\")\n",
    "\n",
    "print('*************** Evaluation on Training Data ***************')\n",
    "score_tr = model.score(X_train, y_train)\n",
    "print('Accuracy Score: ', score_tr)\n",
    "print('--------------------------------------------------------')"
   ],
   "metadata": {
    "collapsed": false,
    "pycharm": {
     "name": "#%%\n"
    }
   }
  },
  {
   "cell_type": "markdown",
   "source": [
    "## Random Forest\n",
    "\n",
    "Using Random Forest for a classification problem:"
   ],
   "metadata": {
    "collapsed": false,
    "pycharm": {
     "name": "#%% md\n"
    }
   }
  },
  {
   "cell_type": "code",
   "execution_count": 8,
   "outputs": [
    {
     "name": "stdout",
     "output_type": "stream",
     "text": [
      "Row 200, Prediction: 1.00, Actual: 1.00, R2: 93.33%\n"
     ]
    }
   ],
   "source": [
    "from sklearn.ensemble import RandomForestClassifier\n",
    "\n",
    "X, y = make_classification(n_samples=1000, n_features=8, n_informative=5, random_state=433)\n",
    "\n",
    "X_train, X_test, y_train, y_test = train_test_split(X, y, test_size=0.33, random_state=433)\n",
    "\n",
    "model = RandomForestClassifier()  # your results will vary if you don't set a random_state!\n",
    "model.fit(X_train, y_train)\n",
    "# make a single prediction\n",
    "prediction = model.predict([X_test[200]])  # predict expects a list of rows\n",
    "print(f'Row 200, Prediction: {prediction[0]:.2f}, Actual: {y_test[200]:.2f}'\n",
    "      f', R2: {model.score(X_test, y_test)*100:.2f}%')"
   ],
   "metadata": {
    "collapsed": false,
    "pycharm": {
     "name": "#%%\n"
    }
   }
  },
  {
   "cell_type": "markdown",
   "source": [
    "Similarly, we can build a regression model with:"
   ],
   "metadata": {
    "collapsed": false,
    "pycharm": {
     "name": "#%% md\n"
    }
   }
  },
  {
   "cell_type": "code",
   "execution_count": 9,
   "outputs": [
    {
     "name": "stdout",
     "output_type": "stream",
     "text": [
      "Row 155, Prediction: 134.22, Actual: 235.03, R2: 89.00%\n"
     ]
    }
   ],
   "source": [
    "from sklearn.ensemble import RandomForestRegressor\n",
    "\n",
    "X, y = make_regression(n_samples=1000, n_features=8, n_informative=5, random_state=433)\n",
    "\n",
    "X_train, X_test, y_train, y_test = train_test_split(X, y, test_size=0.33, random_state=433)\n",
    "\n",
    "model = RandomForestRegressor(random_state=433)\n",
    "model.fit(X_train, y_train)\n",
    "# make a single prediction\n",
    "prediction = model.predict([X_test[155]])  # be careful to pass an array of rows\n",
    "print(f'Row 155, Prediction: {prediction[0]:.2f}, Actual: {y_test[155]:.2f}'\n",
    "      f', R2: {model.score(X_test, y_test)*100:.2f}%')"
   ],
   "metadata": {
    "collapsed": false,
    "pycharm": {
     "name": "#%%\n"
    }
   }
  }
 ],
 "metadata": {
  "kernelspec": {
   "display_name": "Python 3",
   "language": "python",
   "name": "python3"
  },
  "language_info": {
   "codemirror_mode": {
    "name": "ipython",
    "version": 2
   },
   "file_extension": ".py",
   "mimetype": "text/x-python",
   "name": "python",
   "nbconvert_exporter": "python",
   "pygments_lexer": "ipython2",
   "version": "2.7.6"
  }
 },
 "nbformat": 4,
 "nbformat_minor": 0
}